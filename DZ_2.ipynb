{
 "cells": [
  {
   "cell_type": "code",
   "execution_count": 70,
   "id": "6aa4d812",
   "metadata": {},
   "outputs": [],
   "source": [
    "# Загружаем библиотеки\n",
    "import pandas as pd # Датафреймы pandas\n",
    "import scipy.stats # Статистика\n",
    "from sklearn.linear_model import LogisticRegression # Логистическая регрессия\n",
    "from sklearn.svm import SVC # Метод опорных векторов\n",
    "from sklearn.preprocessing import LabelEncoder # Преобразования категориальных переменных в числа\n",
    "from sklearn.model_selection import train_test_split # Разделение выборки на обучающую и тестовую"
   ]
  },
  {
   "cell_type": "code",
   "execution_count": 68,
   "id": "e6924996",
   "metadata": {},
   "outputs": [],
   "source": [
    "# Загружаем исходную информацию\n",
    "data_all = pd.read_csv('adult.csv')\n",
    "# Используем несколько признаков, остальные отбросим:\n",
    "# age - возраст\n",
    "# education - образование\n",
    "# hours-per-week - количество рабочих часов в в неделю\n",
    "data_work = data_all[['age', 'education', 'hours-per-week']]\n",
    "# Преобразуем столбец education в группу столбцов с признаками \n",
    "# Получаем матрицу признаков \n",
    "X = pd.get_dummies(data_work, columns = ['education'])\n",
    "# Преобразуем категориальные переменные в числа\n",
    "# Получаем вектор целевых значений\n",
    "le = LabelEncoder()\n",
    "le.fit(data_all['income'])\n",
    "y = pd.Series(le.transform(data_all['income']))\n",
    "# Разделяем выборку на обучающую и тестовую\n",
    "X_train, X_test, y_train, y_test = train_test_split(X, y, random_state = 42)"
   ]
  },
  {
   "cell_type": "code",
   "execution_count": 69,
   "id": "678bff03",
   "metadata": {},
   "outputs": [
    {
     "data": {
      "text/plain": [
       "0.793792482188191"
      ]
     },
     "execution_count": 69,
     "metadata": {},
     "output_type": "execute_result"
    }
   ],
   "source": [
    "# Используем логистическую регрессию\n",
    "model = LogisticRegression(max_iter = 1000)\n",
    "# Обучаем модель на обучающей выборке\n",
    "model.fit(X_train, y_train)\n",
    "# Оцениваем качество модели на тестовой выборке\n",
    "model.score(X_test, y_test)"
   ]
  },
  {
   "cell_type": "code",
   "execution_count": 73,
   "id": "f98e72ed",
   "metadata": {},
   "outputs": [
    {
     "data": {
      "text/plain": [
       "0.8018180329211366"
      ]
     },
     "execution_count": 73,
     "metadata": {},
     "output_type": "execute_result"
    }
   ],
   "source": [
    "# Используем метод опорных векторов\n",
    "model = SVC(gamma = 'auto')\n",
    "# Обучаем модель на обучающей выборке\n",
    "model.fit(X_train, y_train)\n",
    "# Оцениваем качество модели на тестовой выборке\n",
    "model.score(X_test, y_test)"
   ]
  }
 ],
 "metadata": {
  "kernelspec": {
   "display_name": "Python 3",
   "language": "python",
   "name": "python3"
  },
  "language_info": {
   "codemirror_mode": {
    "name": "ipython",
    "version": 3
   },
   "file_extension": ".py",
   "mimetype": "text/x-python",
   "name": "python",
   "nbconvert_exporter": "python",
   "pygments_lexer": "ipython3",
   "version": "3.8.8"
  }
 },
 "nbformat": 4,
 "nbformat_minor": 5
}
